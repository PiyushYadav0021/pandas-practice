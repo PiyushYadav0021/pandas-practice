{
 "cells": [
  {
   "cell_type": "code",
   "execution_count": 1,
   "id": "8ccc0c3f",
   "metadata": {},
   "outputs": [],
   "source": [
    "import numpy as np\n",
    "import pandas as pd"
   ]
  },
  {
   "cell_type": "markdown",
   "id": "d1afdafe",
   "metadata": {},
   "source": [
    "# DataFrame\n",
    "A DataFrame in Pandas is like a super-powered Excel table.\n",
    "\n",
    "It’s a grid made up of rows and columns where:\n",
    "\n",
    "Rows = each entry or record (like a student, product, or city)\n",
    "\n",
    "Columns = categories of data (like name, age, salary, etc.)"
   ]
  },
  {
   "cell_type": "code",
   "execution_count": 2,
   "id": "68657ff2",
   "metadata": {},
   "outputs": [],
   "source": [
    " Data = {\n",
    "     \"India\" : ['Delhi','Bengaluru','Mumbai', 'Chennai', 'Guwahati','Surat','Leh'],\n",
    "     \"Rank\" : [3, 4 ,6, 5, 2, 5, 1],\n",
    "     \"Population\" : [20001, 30020, 10000, 13290, 1200, 5000, 1600],\n",
    "     \"Work\" : ['Government & IT Services','Technology & Startups','Finance & Entertainment', 'Automobile & Software','Tea Trade & Tourism','Diamond & Textile Industry','Tourism & Army Services']\n",
    " }"
   ]
  },
  {
   "cell_type": "code",
   "execution_count": 3,
   "id": "c7cf04a5",
   "metadata": {},
   "outputs": [
    {
     "data": {
      "text/html": [
       "<div>\n",
       "<style scoped>\n",
       "    .dataframe tbody tr th:only-of-type {\n",
       "        vertical-align: middle;\n",
       "    }\n",
       "\n",
       "    .dataframe tbody tr th {\n",
       "        vertical-align: top;\n",
       "    }\n",
       "\n",
       "    .dataframe thead th {\n",
       "        text-align: right;\n",
       "    }\n",
       "</style>\n",
       "<table border=\"1\" class=\"dataframe\">\n",
       "  <thead>\n",
       "    <tr style=\"text-align: right;\">\n",
       "      <th></th>\n",
       "      <th>India</th>\n",
       "      <th>Rank</th>\n",
       "      <th>Population</th>\n",
       "      <th>Work</th>\n",
       "    </tr>\n",
       "  </thead>\n",
       "  <tbody>\n",
       "    <tr>\n",
       "      <th>0</th>\n",
       "      <td>Delhi</td>\n",
       "      <td>3</td>\n",
       "      <td>20001</td>\n",
       "      <td>Government &amp; IT Services</td>\n",
       "    </tr>\n",
       "    <tr>\n",
       "      <th>1</th>\n",
       "      <td>Bengaluru</td>\n",
       "      <td>4</td>\n",
       "      <td>30020</td>\n",
       "      <td>Technology &amp; Startups</td>\n",
       "    </tr>\n",
       "    <tr>\n",
       "      <th>2</th>\n",
       "      <td>Mumbai</td>\n",
       "      <td>6</td>\n",
       "      <td>10000</td>\n",
       "      <td>Finance &amp; Entertainment</td>\n",
       "    </tr>\n",
       "    <tr>\n",
       "      <th>3</th>\n",
       "      <td>Chennai</td>\n",
       "      <td>5</td>\n",
       "      <td>13290</td>\n",
       "      <td>Automobile &amp; Software</td>\n",
       "    </tr>\n",
       "    <tr>\n",
       "      <th>4</th>\n",
       "      <td>Guwahati</td>\n",
       "      <td>2</td>\n",
       "      <td>1200</td>\n",
       "      <td>Tea Trade &amp; Tourism</td>\n",
       "    </tr>\n",
       "    <tr>\n",
       "      <th>5</th>\n",
       "      <td>Surat</td>\n",
       "      <td>5</td>\n",
       "      <td>5000</td>\n",
       "      <td>Diamond &amp; Textile Industry</td>\n",
       "    </tr>\n",
       "    <tr>\n",
       "      <th>6</th>\n",
       "      <td>Leh</td>\n",
       "      <td>1</td>\n",
       "      <td>1600</td>\n",
       "      <td>Tourism &amp; Army Services</td>\n",
       "    </tr>\n",
       "  </tbody>\n",
       "</table>\n",
       "</div>"
      ],
      "text/plain": [
       "       India  Rank  Population                        Work\n",
       "0      Delhi     3       20001    Government & IT Services\n",
       "1  Bengaluru     4       30020       Technology & Startups\n",
       "2     Mumbai     6       10000     Finance & Entertainment\n",
       "3    Chennai     5       13290       Automobile & Software\n",
       "4   Guwahati     2        1200         Tea Trade & Tourism\n",
       "5      Surat     5        5000  Diamond & Textile Industry\n",
       "6        Leh     1        1600     Tourism & Army Services"
      ]
     },
     "execution_count": 3,
     "metadata": {},
     "output_type": "execute_result"
    }
   ],
   "source": [
    "DF = pd.DataFrame(Data)\n",
    "DF"
   ]
  },
  {
   "cell_type": "markdown",
   "id": "cf503122",
   "metadata": {},
   "source": [
    "# Now I want the indexing of this dataset from 1 not from 0"
   ]
  },
  {
   "cell_type": "code",
   "execution_count": 4,
   "id": "b5ffbcf0",
   "metadata": {},
   "outputs": [
    {
     "data": {
      "text/html": [
       "<div>\n",
       "<style scoped>\n",
       "    .dataframe tbody tr th:only-of-type {\n",
       "        vertical-align: middle;\n",
       "    }\n",
       "\n",
       "    .dataframe tbody tr th {\n",
       "        vertical-align: top;\n",
       "    }\n",
       "\n",
       "    .dataframe thead th {\n",
       "        text-align: right;\n",
       "    }\n",
       "</style>\n",
       "<table border=\"1\" class=\"dataframe\">\n",
       "  <thead>\n",
       "    <tr style=\"text-align: right;\">\n",
       "      <th></th>\n",
       "      <th>India</th>\n",
       "      <th>Rank</th>\n",
       "      <th>Population</th>\n",
       "      <th>Work</th>\n",
       "    </tr>\n",
       "  </thead>\n",
       "  <tbody>\n",
       "    <tr>\n",
       "      <th>1</th>\n",
       "      <td>Delhi</td>\n",
       "      <td>3</td>\n",
       "      <td>20001</td>\n",
       "      <td>Government &amp; IT Services</td>\n",
       "    </tr>\n",
       "    <tr>\n",
       "      <th>2</th>\n",
       "      <td>Bengaluru</td>\n",
       "      <td>4</td>\n",
       "      <td>30020</td>\n",
       "      <td>Technology &amp; Startups</td>\n",
       "    </tr>\n",
       "    <tr>\n",
       "      <th>3</th>\n",
       "      <td>Mumbai</td>\n",
       "      <td>6</td>\n",
       "      <td>10000</td>\n",
       "      <td>Finance &amp; Entertainment</td>\n",
       "    </tr>\n",
       "    <tr>\n",
       "      <th>4</th>\n",
       "      <td>Chennai</td>\n",
       "      <td>5</td>\n",
       "      <td>13290</td>\n",
       "      <td>Automobile &amp; Software</td>\n",
       "    </tr>\n",
       "    <tr>\n",
       "      <th>5</th>\n",
       "      <td>Guwahati</td>\n",
       "      <td>2</td>\n",
       "      <td>1200</td>\n",
       "      <td>Tea Trade &amp; Tourism</td>\n",
       "    </tr>\n",
       "    <tr>\n",
       "      <th>6</th>\n",
       "      <td>Surat</td>\n",
       "      <td>5</td>\n",
       "      <td>5000</td>\n",
       "      <td>Diamond &amp; Textile Industry</td>\n",
       "    </tr>\n",
       "    <tr>\n",
       "      <th>7</th>\n",
       "      <td>Leh</td>\n",
       "      <td>1</td>\n",
       "      <td>1600</td>\n",
       "      <td>Tourism &amp; Army Services</td>\n",
       "    </tr>\n",
       "  </tbody>\n",
       "</table>\n",
       "</div>"
      ],
      "text/plain": [
       "       India  Rank  Population                        Work\n",
       "1      Delhi     3       20001    Government & IT Services\n",
       "2  Bengaluru     4       30020       Technology & Startups\n",
       "3     Mumbai     6       10000     Finance & Entertainment\n",
       "4    Chennai     5       13290       Automobile & Software\n",
       "5   Guwahati     2        1200         Tea Trade & Tourism\n",
       "6      Surat     5        5000  Diamond & Textile Industry\n",
       "7        Leh     1        1600     Tourism & Army Services"
      ]
     },
     "execution_count": 4,
     "metadata": {},
     "output_type": "execute_result"
    }
   ],
   "source": [
    "DF = pd.DataFrame(Data , index = [1,2,3,4,5,6,7])\n",
    "DF"
   ]
  },
  {
   "cell_type": "code",
   "execution_count": 5,
   "id": "fc959588",
   "metadata": {},
   "outputs": [],
   "source": [
    "# Now we haven't given the data in proper format of column than there values\n",
    "\n",
    "schhl_data = [\n",
    "    ['ABC School', 1, 1000, 'Delhi'], # We can circle braces(), also the output will be same\n",
    "    ['DEF School' , 4, 2000, 'Noida'],\n",
    "    ['MNO School', 2,1300, 'Meerut'],\n",
    "    ['PQR School', 3 , 2100,'Bengluru'],\n",
    "    ['XYZ School', 5, 610,'aizwal']\n",
    "]\n",
    "\n",
    "#For this we have to use only square braces[], otherwise there will be type error"
   ]
  },
  {
   "cell_type": "code",
   "execution_count": 6,
   "id": "2c3dc377",
   "metadata": {},
   "outputs": [
    {
     "data": {
      "text/html": [
       "<div>\n",
       "<style scoped>\n",
       "    .dataframe tbody tr th:only-of-type {\n",
       "        vertical-align: middle;\n",
       "    }\n",
       "\n",
       "    .dataframe tbody tr th {\n",
       "        vertical-align: top;\n",
       "    }\n",
       "\n",
       "    .dataframe thead th {\n",
       "        text-align: right;\n",
       "    }\n",
       "</style>\n",
       "<table border=\"1\" class=\"dataframe\">\n",
       "  <thead>\n",
       "    <tr style=\"text-align: right;\">\n",
       "      <th></th>\n",
       "      <th>0</th>\n",
       "      <th>1</th>\n",
       "      <th>2</th>\n",
       "      <th>3</th>\n",
       "    </tr>\n",
       "  </thead>\n",
       "  <tbody>\n",
       "    <tr>\n",
       "      <th>0</th>\n",
       "      <td>ABC School</td>\n",
       "      <td>1</td>\n",
       "      <td>1000</td>\n",
       "      <td>Delhi</td>\n",
       "    </tr>\n",
       "    <tr>\n",
       "      <th>1</th>\n",
       "      <td>DEF School</td>\n",
       "      <td>4</td>\n",
       "      <td>2000</td>\n",
       "      <td>Noida</td>\n",
       "    </tr>\n",
       "    <tr>\n",
       "      <th>2</th>\n",
       "      <td>MNO School</td>\n",
       "      <td>2</td>\n",
       "      <td>1300</td>\n",
       "      <td>Meerut</td>\n",
       "    </tr>\n",
       "    <tr>\n",
       "      <th>3</th>\n",
       "      <td>PQR School</td>\n",
       "      <td>3</td>\n",
       "      <td>2100</td>\n",
       "      <td>Bengluru</td>\n",
       "    </tr>\n",
       "    <tr>\n",
       "      <th>4</th>\n",
       "      <td>XYZ School</td>\n",
       "      <td>5</td>\n",
       "      <td>610</td>\n",
       "      <td>aizwal</td>\n",
       "    </tr>\n",
       "  </tbody>\n",
       "</table>\n",
       "</div>"
      ],
      "text/plain": [
       "            0  1     2         3\n",
       "0  ABC School  1  1000     Delhi\n",
       "1  DEF School  4  2000     Noida\n",
       "2  MNO School  2  1300    Meerut\n",
       "3  PQR School  3  2100  Bengluru\n",
       "4  XYZ School  5   610    aizwal"
      ]
     },
     "execution_count": 6,
     "metadata": {},
     "output_type": "execute_result"
    }
   ],
   "source": [
    "# If we will run then it will create the columnn header of columns with 0,1,2,3,4,5.....\n",
    "\n",
    "DF1 = pd.DataFrame(schhl_data)\n",
    "DF1"
   ]
  },
  {
   "cell_type": "code",
   "execution_count": 7,
   "id": "f835c783",
   "metadata": {},
   "outputs": [
    {
     "data": {
      "text/html": [
       "<div>\n",
       "<style scoped>\n",
       "    .dataframe tbody tr th:only-of-type {\n",
       "        vertical-align: middle;\n",
       "    }\n",
       "\n",
       "    .dataframe tbody tr th {\n",
       "        vertical-align: top;\n",
       "    }\n",
       "\n",
       "    .dataframe thead th {\n",
       "        text-align: right;\n",
       "    }\n",
       "</style>\n",
       "<table border=\"1\" class=\"dataframe\">\n",
       "  <thead>\n",
       "    <tr style=\"text-align: right;\">\n",
       "      <th></th>\n",
       "      <th>School Name</th>\n",
       "      <th>Rank</th>\n",
       "      <th>Fees</th>\n",
       "      <th>City</th>\n",
       "    </tr>\n",
       "  </thead>\n",
       "  <tbody>\n",
       "    <tr>\n",
       "      <th>1</th>\n",
       "      <td>ABC School</td>\n",
       "      <td>1</td>\n",
       "      <td>1000</td>\n",
       "      <td>Delhi</td>\n",
       "    </tr>\n",
       "    <tr>\n",
       "      <th>2</th>\n",
       "      <td>DEF School</td>\n",
       "      <td>4</td>\n",
       "      <td>2000</td>\n",
       "      <td>Noida</td>\n",
       "    </tr>\n",
       "    <tr>\n",
       "      <th>3</th>\n",
       "      <td>MNO School</td>\n",
       "      <td>2</td>\n",
       "      <td>1300</td>\n",
       "      <td>Meerut</td>\n",
       "    </tr>\n",
       "    <tr>\n",
       "      <th>4</th>\n",
       "      <td>PQR School</td>\n",
       "      <td>3</td>\n",
       "      <td>2100</td>\n",
       "      <td>Bengluru</td>\n",
       "    </tr>\n",
       "    <tr>\n",
       "      <th>5</th>\n",
       "      <td>XYZ School</td>\n",
       "      <td>5</td>\n",
       "      <td>610</td>\n",
       "      <td>aizwal</td>\n",
       "    </tr>\n",
       "  </tbody>\n",
       "</table>\n",
       "</div>"
      ],
      "text/plain": [
       "  School Name  Rank  Fees      City\n",
       "1  ABC School     1  1000     Delhi\n",
       "2  DEF School     4  2000     Noida\n",
       "3  MNO School     2  1300    Meerut\n",
       "4  PQR School     3  2100  Bengluru\n",
       "5  XYZ School     5   610    aizwal"
      ]
     },
     "execution_count": 7,
     "metadata": {},
     "output_type": "execute_result"
    }
   ],
   "source": [
    "# If we want to change the header or create something.\n",
    "\n",
    "DF1 = pd.DataFrame(schhl_data, index = [1,2,3,4,5,], columns = ['School Name', 'Rank', 'Fees', 'City'])\n",
    "DF1"
   ]
  },
  {
   "cell_type": "code",
   "execution_count": 8,
   "id": "9ffe8cc1",
   "metadata": {},
   "outputs": [
    {
     "data": {
      "text/plain": [
       "1    ABC School\n",
       "2    DEF School\n",
       "3    MNO School\n",
       "4    PQR School\n",
       "5    XYZ School\n",
       "Name: School Name, dtype: object"
      ]
     },
     "execution_count": 8,
     "metadata": {},
     "output_type": "execute_result"
    }
   ],
   "source": [
    "# If want to write down just one entire column\n",
    "\n",
    "DF1['School Name']"
   ]
  },
  {
   "cell_type": "code",
   "execution_count": 9,
   "id": "b1f6628f",
   "metadata": {},
   "outputs": [
    {
     "data": {
      "text/html": [
       "<div>\n",
       "<style scoped>\n",
       "    .dataframe tbody tr th:only-of-type {\n",
       "        vertical-align: middle;\n",
       "    }\n",
       "\n",
       "    .dataframe tbody tr th {\n",
       "        vertical-align: top;\n",
       "    }\n",
       "\n",
       "    .dataframe thead th {\n",
       "        text-align: right;\n",
       "    }\n",
       "</style>\n",
       "<table border=\"1\" class=\"dataframe\">\n",
       "  <thead>\n",
       "    <tr style=\"text-align: right;\">\n",
       "      <th></th>\n",
       "      <th>School Name</th>\n",
       "      <th>Fees</th>\n",
       "    </tr>\n",
       "  </thead>\n",
       "  <tbody>\n",
       "    <tr>\n",
       "      <th>1</th>\n",
       "      <td>ABC School</td>\n",
       "      <td>1000</td>\n",
       "    </tr>\n",
       "    <tr>\n",
       "      <th>2</th>\n",
       "      <td>DEF School</td>\n",
       "      <td>2000</td>\n",
       "    </tr>\n",
       "    <tr>\n",
       "      <th>3</th>\n",
       "      <td>MNO School</td>\n",
       "      <td>1300</td>\n",
       "    </tr>\n",
       "    <tr>\n",
       "      <th>4</th>\n",
       "      <td>PQR School</td>\n",
       "      <td>2100</td>\n",
       "    </tr>\n",
       "    <tr>\n",
       "      <th>5</th>\n",
       "      <td>XYZ School</td>\n",
       "      <td>610</td>\n",
       "    </tr>\n",
       "  </tbody>\n",
       "</table>\n",
       "</div>"
      ],
      "text/plain": [
       "  School Name  Fees\n",
       "1  ABC School  1000\n",
       "2  DEF School  2000\n",
       "3  MNO School  1300\n",
       "4  PQR School  2100\n",
       "5  XYZ School   610"
      ]
     },
     "execution_count": 9,
     "metadata": {},
     "output_type": "execute_result"
    }
   ],
   "source": [
    "# If want to write down any 2,3 entire column\n",
    "\n",
    "DF1[['School Name','Fees']]"
   ]
  },
  {
   "cell_type": "markdown",
   "id": "6ae345f5",
   "metadata": {},
   "source": [
    "# Creating New Column "
   ]
  },
  {
   "cell_type": "code",
   "execution_count": 10,
   "id": "b8e55dd7",
   "metadata": {},
   "outputs": [
    {
     "data": {
      "text/html": [
       "<div>\n",
       "<style scoped>\n",
       "    .dataframe tbody tr th:only-of-type {\n",
       "        vertical-align: middle;\n",
       "    }\n",
       "\n",
       "    .dataframe tbody tr th {\n",
       "        vertical-align: top;\n",
       "    }\n",
       "\n",
       "    .dataframe thead th {\n",
       "        text-align: right;\n",
       "    }\n",
       "</style>\n",
       "<table border=\"1\" class=\"dataframe\">\n",
       "  <thead>\n",
       "    <tr style=\"text-align: right;\">\n",
       "      <th></th>\n",
       "      <th>School Name</th>\n",
       "      <th>Rank</th>\n",
       "      <th>Fees</th>\n",
       "      <th>City</th>\n",
       "      <th>Students</th>\n",
       "    </tr>\n",
       "  </thead>\n",
       "  <tbody>\n",
       "    <tr>\n",
       "      <th>1</th>\n",
       "      <td>ABC School</td>\n",
       "      <td>1</td>\n",
       "      <td>1000</td>\n",
       "      <td>Delhi</td>\n",
       "      <td>122</td>\n",
       "    </tr>\n",
       "    <tr>\n",
       "      <th>2</th>\n",
       "      <td>DEF School</td>\n",
       "      <td>4</td>\n",
       "      <td>2000</td>\n",
       "      <td>Noida</td>\n",
       "      <td>321</td>\n",
       "    </tr>\n",
       "    <tr>\n",
       "      <th>3</th>\n",
       "      <td>MNO School</td>\n",
       "      <td>2</td>\n",
       "      <td>1300</td>\n",
       "      <td>Meerut</td>\n",
       "      <td>432</td>\n",
       "    </tr>\n",
       "    <tr>\n",
       "      <th>4</th>\n",
       "      <td>PQR School</td>\n",
       "      <td>3</td>\n",
       "      <td>2100</td>\n",
       "      <td>Bengluru</td>\n",
       "      <td>243</td>\n",
       "    </tr>\n",
       "    <tr>\n",
       "      <th>5</th>\n",
       "      <td>XYZ School</td>\n",
       "      <td>5</td>\n",
       "      <td>610</td>\n",
       "      <td>aizwal</td>\n",
       "      <td>232</td>\n",
       "    </tr>\n",
       "  </tbody>\n",
       "</table>\n",
       "</div>"
      ],
      "text/plain": [
       "  School Name  Rank  Fees      City  Students\n",
       "1  ABC School     1  1000     Delhi       122\n",
       "2  DEF School     4  2000     Noida       321\n",
       "3  MNO School     2  1300    Meerut       432\n",
       "4  PQR School     3  2100  Bengluru       243\n",
       "5  XYZ School     5   610    aizwal       232"
      ]
     },
     "execution_count": 10,
     "metadata": {},
     "output_type": "execute_result"
    }
   ],
   "source": [
    "DF1[\"Students\"] = [122, 321, 432, 243, 232]\n",
    "DF1"
   ]
  },
  {
   "cell_type": "markdown",
   "id": "daf6b8b9",
   "metadata": {},
   "source": [
    "Drop function use to delete the whole row or column, but it just remove and show the copy. while the data will remain same in Main Memory. For delete that permanently we have to use inplace = True"
   ]
  },
  {
   "cell_type": "markdown",
   "id": "4cc524d1",
   "metadata": {},
   "source": [
    "# Removing entire column"
   ]
  },
  {
   "cell_type": "code",
   "execution_count": 11,
   "id": "96b463e5",
   "metadata": {},
   "outputs": [
    {
     "data": {
      "text/html": [
       "<div>\n",
       "<style scoped>\n",
       "    .dataframe tbody tr th:only-of-type {\n",
       "        vertical-align: middle;\n",
       "    }\n",
       "\n",
       "    .dataframe tbody tr th {\n",
       "        vertical-align: top;\n",
       "    }\n",
       "\n",
       "    .dataframe thead th {\n",
       "        text-align: right;\n",
       "    }\n",
       "</style>\n",
       "<table border=\"1\" class=\"dataframe\">\n",
       "  <thead>\n",
       "    <tr style=\"text-align: right;\">\n",
       "      <th></th>\n",
       "      <th>School Name</th>\n",
       "      <th>Rank</th>\n",
       "      <th>Fees</th>\n",
       "      <th>City</th>\n",
       "    </tr>\n",
       "  </thead>\n",
       "  <tbody>\n",
       "    <tr>\n",
       "      <th>1</th>\n",
       "      <td>ABC School</td>\n",
       "      <td>1</td>\n",
       "      <td>1000</td>\n",
       "      <td>Delhi</td>\n",
       "    </tr>\n",
       "    <tr>\n",
       "      <th>2</th>\n",
       "      <td>DEF School</td>\n",
       "      <td>4</td>\n",
       "      <td>2000</td>\n",
       "      <td>Noida</td>\n",
       "    </tr>\n",
       "    <tr>\n",
       "      <th>3</th>\n",
       "      <td>MNO School</td>\n",
       "      <td>2</td>\n",
       "      <td>1300</td>\n",
       "      <td>Meerut</td>\n",
       "    </tr>\n",
       "    <tr>\n",
       "      <th>4</th>\n",
       "      <td>PQR School</td>\n",
       "      <td>3</td>\n",
       "      <td>2100</td>\n",
       "      <td>Bengluru</td>\n",
       "    </tr>\n",
       "    <tr>\n",
       "      <th>5</th>\n",
       "      <td>XYZ School</td>\n",
       "      <td>5</td>\n",
       "      <td>610</td>\n",
       "      <td>aizwal</td>\n",
       "    </tr>\n",
       "  </tbody>\n",
       "</table>\n",
       "</div>"
      ],
      "text/plain": [
       "  School Name  Rank  Fees      City\n",
       "1  ABC School     1  1000     Delhi\n",
       "2  DEF School     4  2000     Noida\n",
       "3  MNO School     2  1300    Meerut\n",
       "4  PQR School     3  2100  Bengluru\n",
       "5  XYZ School     5   610    aizwal"
      ]
     },
     "execution_count": 11,
     "metadata": {},
     "output_type": "execute_result"
    }
   ],
   "source": [
    "DF1.drop('Students', axis = 1)"
   ]
  },
  {
   "cell_type": "code",
   "execution_count": 12,
   "id": "ec7135dc",
   "metadata": {},
   "outputs": [
    {
     "data": {
      "text/html": [
       "<div>\n",
       "<style scoped>\n",
       "    .dataframe tbody tr th:only-of-type {\n",
       "        vertical-align: middle;\n",
       "    }\n",
       "\n",
       "    .dataframe tbody tr th {\n",
       "        vertical-align: top;\n",
       "    }\n",
       "\n",
       "    .dataframe thead th {\n",
       "        text-align: right;\n",
       "    }\n",
       "</style>\n",
       "<table border=\"1\" class=\"dataframe\">\n",
       "  <thead>\n",
       "    <tr style=\"text-align: right;\">\n",
       "      <th></th>\n",
       "      <th>School Name</th>\n",
       "      <th>Rank</th>\n",
       "      <th>Fees</th>\n",
       "      <th>City</th>\n",
       "      <th>Students</th>\n",
       "    </tr>\n",
       "  </thead>\n",
       "  <tbody>\n",
       "    <tr>\n",
       "      <th>1</th>\n",
       "      <td>ABC School</td>\n",
       "      <td>1</td>\n",
       "      <td>1000</td>\n",
       "      <td>Delhi</td>\n",
       "      <td>122</td>\n",
       "    </tr>\n",
       "    <tr>\n",
       "      <th>2</th>\n",
       "      <td>DEF School</td>\n",
       "      <td>4</td>\n",
       "      <td>2000</td>\n",
       "      <td>Noida</td>\n",
       "      <td>321</td>\n",
       "    </tr>\n",
       "    <tr>\n",
       "      <th>3</th>\n",
       "      <td>MNO School</td>\n",
       "      <td>2</td>\n",
       "      <td>1300</td>\n",
       "      <td>Meerut</td>\n",
       "      <td>432</td>\n",
       "    </tr>\n",
       "    <tr>\n",
       "      <th>4</th>\n",
       "      <td>PQR School</td>\n",
       "      <td>3</td>\n",
       "      <td>2100</td>\n",
       "      <td>Bengluru</td>\n",
       "      <td>243</td>\n",
       "    </tr>\n",
       "    <tr>\n",
       "      <th>5</th>\n",
       "      <td>XYZ School</td>\n",
       "      <td>5</td>\n",
       "      <td>610</td>\n",
       "      <td>aizwal</td>\n",
       "      <td>232</td>\n",
       "    </tr>\n",
       "  </tbody>\n",
       "</table>\n",
       "</div>"
      ],
      "text/plain": [
       "  School Name  Rank  Fees      City  Students\n",
       "1  ABC School     1  1000     Delhi       122\n",
       "2  DEF School     4  2000     Noida       321\n",
       "3  MNO School     2  1300    Meerut       432\n",
       "4  PQR School     3  2100  Bengluru       243\n",
       "5  XYZ School     5   610    aizwal       232"
      ]
     },
     "execution_count": 12,
     "metadata": {},
     "output_type": "execute_result"
    }
   ],
   "source": [
    "DF1"
   ]
  },
  {
   "cell_type": "markdown",
   "id": "3f2aada8",
   "metadata": {},
   "source": [
    "We can see the Students and e both are in main Data DF1, while now we will use inplace again"
   ]
  },
  {
   "cell_type": "code",
   "execution_count": 13,
   "id": "514b9b51",
   "metadata": {},
   "outputs": [
    {
     "data": {
      "text/html": [
       "<div>\n",
       "<style scoped>\n",
       "    .dataframe tbody tr th:only-of-type {\n",
       "        vertical-align: middle;\n",
       "    }\n",
       "\n",
       "    .dataframe tbody tr th {\n",
       "        vertical-align: top;\n",
       "    }\n",
       "\n",
       "    .dataframe thead th {\n",
       "        text-align: right;\n",
       "    }\n",
       "</style>\n",
       "<table border=\"1\" class=\"dataframe\">\n",
       "  <thead>\n",
       "    <tr style=\"text-align: right;\">\n",
       "      <th></th>\n",
       "      <th>School Name</th>\n",
       "      <th>Rank</th>\n",
       "      <th>Fees</th>\n",
       "      <th>City</th>\n",
       "    </tr>\n",
       "  </thead>\n",
       "  <tbody>\n",
       "    <tr>\n",
       "      <th>1</th>\n",
       "      <td>ABC School</td>\n",
       "      <td>1</td>\n",
       "      <td>1000</td>\n",
       "      <td>Delhi</td>\n",
       "    </tr>\n",
       "    <tr>\n",
       "      <th>2</th>\n",
       "      <td>DEF School</td>\n",
       "      <td>4</td>\n",
       "      <td>2000</td>\n",
       "      <td>Noida</td>\n",
       "    </tr>\n",
       "    <tr>\n",
       "      <th>3</th>\n",
       "      <td>MNO School</td>\n",
       "      <td>2</td>\n",
       "      <td>1300</td>\n",
       "      <td>Meerut</td>\n",
       "    </tr>\n",
       "    <tr>\n",
       "      <th>4</th>\n",
       "      <td>PQR School</td>\n",
       "      <td>3</td>\n",
       "      <td>2100</td>\n",
       "      <td>Bengluru</td>\n",
       "    </tr>\n",
       "    <tr>\n",
       "      <th>5</th>\n",
       "      <td>XYZ School</td>\n",
       "      <td>5</td>\n",
       "      <td>610</td>\n",
       "      <td>aizwal</td>\n",
       "    </tr>\n",
       "  </tbody>\n",
       "</table>\n",
       "</div>"
      ],
      "text/plain": [
       "  School Name  Rank  Fees      City\n",
       "1  ABC School     1  1000     Delhi\n",
       "2  DEF School     4  2000     Noida\n",
       "3  MNO School     2  1300    Meerut\n",
       "4  PQR School     3  2100  Bengluru\n",
       "5  XYZ School     5   610    aizwal"
      ]
     },
     "execution_count": 13,
     "metadata": {},
     "output_type": "execute_result"
    }
   ],
   "source": [
    "DF1.drop('Students', axis = 1, inplace =  True)\n",
    "DF1"
   ]
  },
  {
   "cell_type": "markdown",
   "id": "0419b217",
   "metadata": {},
   "source": [
    "Now, the Students is permanently delete from the main memory"
   ]
  },
  {
   "cell_type": "markdown",
   "id": "47519c91",
   "metadata": {},
   "source": [
    "# Rows\n",
    "for selecting the row we use loc and iloc functions"
   ]
  },
  {
   "cell_type": "code",
   "execution_count": 14,
   "id": "5e221d48",
   "metadata": {},
   "outputs": [
    {
     "data": {
      "text/plain": [
       "School Name    ABC School\n",
       "Rank                    1\n",
       "Fees                 1000\n",
       "City                Delhi\n",
       "Name: 1, dtype: object"
      ]
     },
     "execution_count": 14,
     "metadata": {},
     "output_type": "execute_result"
    }
   ],
   "source": [
    "DF1.loc[1] #use by telling the location"
   ]
  },
  {
   "cell_type": "code",
   "execution_count": 15,
   "id": "67bb7cfa",
   "metadata": {},
   "outputs": [
    {
     "data": {
      "text/plain": [
       "School Name    MNO School\n",
       "Rank                    2\n",
       "Fees                 1300\n",
       "City               Meerut\n",
       "Name: 3, dtype: object"
      ]
     },
     "execution_count": 15,
     "metadata": {},
     "output_type": "execute_result"
    }
   ],
   "source": [
    "DF1.iloc[2] #iloc is use by tell the index location"
   ]
  },
  {
   "cell_type": "code",
   "execution_count": 16,
   "id": "c689b7fb",
   "metadata": {},
   "outputs": [
    {
     "data": {
      "text/html": [
       "<div>\n",
       "<style scoped>\n",
       "    .dataframe tbody tr th:only-of-type {\n",
       "        vertical-align: middle;\n",
       "    }\n",
       "\n",
       "    .dataframe tbody tr th {\n",
       "        vertical-align: top;\n",
       "    }\n",
       "\n",
       "    .dataframe thead th {\n",
       "        text-align: right;\n",
       "    }\n",
       "</style>\n",
       "<table border=\"1\" class=\"dataframe\">\n",
       "  <thead>\n",
       "    <tr style=\"text-align: right;\">\n",
       "      <th></th>\n",
       "      <th>Rank</th>\n",
       "      <th>City</th>\n",
       "    </tr>\n",
       "  </thead>\n",
       "  <tbody>\n",
       "    <tr>\n",
       "      <th>1</th>\n",
       "      <td>1</td>\n",
       "      <td>Delhi</td>\n",
       "    </tr>\n",
       "    <tr>\n",
       "      <th>2</th>\n",
       "      <td>4</td>\n",
       "      <td>Noida</td>\n",
       "    </tr>\n",
       "    <tr>\n",
       "      <th>3</th>\n",
       "      <td>2</td>\n",
       "      <td>Meerut</td>\n",
       "    </tr>\n",
       "  </tbody>\n",
       "</table>\n",
       "</div>"
      ],
      "text/plain": [
       "   Rank    City\n",
       "1     1   Delhi\n",
       "2     4   Noida\n",
       "3     2  Meerut"
      ]
     },
     "execution_count": 16,
     "metadata": {},
     "output_type": "execute_result"
    }
   ],
   "source": [
    "#Let print Rank 1,2,3 schools and their cities\n",
    "\n",
    "DF1.loc[[1, 2 ,3]][['Rank','City']]"
   ]
  },
  {
   "cell_type": "markdown",
   "id": "1eb98f3d",
   "metadata": {},
   "source": [
    "# Some Conditional Selections"
   ]
  },
  {
   "cell_type": "code",
   "execution_count": 17,
   "id": "eacb94de",
   "metadata": {},
   "outputs": [
    {
     "data": {
      "text/html": [
       "<div>\n",
       "<style scoped>\n",
       "    .dataframe tbody tr th:only-of-type {\n",
       "        vertical-align: middle;\n",
       "    }\n",
       "\n",
       "    .dataframe tbody tr th {\n",
       "        vertical-align: top;\n",
       "    }\n",
       "\n",
       "    .dataframe thead th {\n",
       "        text-align: right;\n",
       "    }\n",
       "</style>\n",
       "<table border=\"1\" class=\"dataframe\">\n",
       "  <thead>\n",
       "    <tr style=\"text-align: right;\">\n",
       "      <th></th>\n",
       "      <th>School Name</th>\n",
       "      <th>Rank</th>\n",
       "      <th>Fees</th>\n",
       "      <th>City</th>\n",
       "    </tr>\n",
       "  </thead>\n",
       "  <tbody>\n",
       "    <tr>\n",
       "      <th>1</th>\n",
       "      <td>ABC School</td>\n",
       "      <td>1</td>\n",
       "      <td>1000</td>\n",
       "      <td>Delhi</td>\n",
       "    </tr>\n",
       "    <tr>\n",
       "      <th>3</th>\n",
       "      <td>MNO School</td>\n",
       "      <td>2</td>\n",
       "      <td>1300</td>\n",
       "      <td>Meerut</td>\n",
       "    </tr>\n",
       "  </tbody>\n",
       "</table>\n",
       "</div>"
      ],
      "text/plain": [
       "  School Name  Rank  Fees    City\n",
       "1  ABC School     1  1000   Delhi\n",
       "3  MNO School     2  1300  Meerut"
      ]
     },
     "execution_count": 17,
     "metadata": {},
     "output_type": "execute_result"
    }
   ],
   "source": [
    "# Select the school rank less the 3 and in Delhi with there name by using condition\n",
    "\n",
    "DF1[DF1[\"Rank\"]<3]"
   ]
  },
  {
   "cell_type": "code",
   "execution_count": 18,
   "id": "4953c234",
   "metadata": {},
   "outputs": [
    {
     "data": {
      "text/html": [
       "<div>\n",
       "<style scoped>\n",
       "    .dataframe tbody tr th:only-of-type {\n",
       "        vertical-align: middle;\n",
       "    }\n",
       "\n",
       "    .dataframe tbody tr th {\n",
       "        vertical-align: top;\n",
       "    }\n",
       "\n",
       "    .dataframe thead th {\n",
       "        text-align: right;\n",
       "    }\n",
       "</style>\n",
       "<table border=\"1\" class=\"dataframe\">\n",
       "  <thead>\n",
       "    <tr style=\"text-align: right;\">\n",
       "      <th></th>\n",
       "      <th>School Name</th>\n",
       "      <th>Rank</th>\n",
       "      <th>Fees</th>\n",
       "      <th>City</th>\n",
       "    </tr>\n",
       "  </thead>\n",
       "  <tbody>\n",
       "    <tr>\n",
       "      <th>1</th>\n",
       "      <td>ABC School</td>\n",
       "      <td>1</td>\n",
       "      <td>1000</td>\n",
       "      <td>Delhi</td>\n",
       "    </tr>\n",
       "  </tbody>\n",
       "</table>\n",
       "</div>"
      ],
      "text/plain": [
       "  School Name  Rank  Fees   City\n",
       "1  ABC School     1  1000  Delhi"
      ]
     },
     "execution_count": 18,
     "metadata": {},
     "output_type": "execute_result"
    }
   ],
   "source": [
    "DF1[(DF1[\"Rank\"]<3) & (DF1[\"City\"] == 'Delhi')]"
   ]
  },
  {
   "cell_type": "markdown",
   "id": "0c74d2f2",
   "metadata": {},
   "source": [
    "# Completed"
   ]
  },
  {
   "cell_type": "code",
   "execution_count": null,
   "id": "fbac7730",
   "metadata": {},
   "outputs": [],
   "source": []
  }
 ],
 "metadata": {
  "kernelspec": {
   "display_name": "Python 3 (ipykernel)",
   "language": "python",
   "name": "python3"
  },
  "language_info": {
   "codemirror_mode": {
    "name": "ipython",
    "version": 3
   },
   "file_extension": ".py",
   "mimetype": "text/x-python",
   "name": "python",
   "nbconvert_exporter": "python",
   "pygments_lexer": "ipython3",
   "version": "3.11.0"
  }
 },
 "nbformat": 4,
 "nbformat_minor": 5
}
