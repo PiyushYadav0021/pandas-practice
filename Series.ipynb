{
 "cells": [
  {
   "cell_type": "markdown",
   "id": "dc023bf2",
   "metadata": {},
   "source": [
    "# Series \n",
    "It is one-dimensional labeled array capable of holding any data type (integers, strings, floats, etc.).\n",
    "It’s like a column in Excel or a 1D NumPy array with labels."
   ]
  },
  {
   "cell_type": "raw",
   "id": "9073e953",
   "metadata": {},
   "source": [
    "Import Numpy and Pandas to perform the basic functions"
   ]
  },
  {
   "cell_type": "code",
   "execution_count": 1,
   "id": "ea794d98",
   "metadata": {},
   "outputs": [],
   "source": [
    "import numpy as np\n",
    "import pandas as pd"
   ]
  },
  {
   "cell_type": "markdown",
   "id": "4ed02e0d",
   "metadata": {},
   "source": [
    "Creating Series:\n",
    "\n",
    "There are multiple ways to create like list, Dictionary, string"
   ]
  },
  {
   "cell_type": "code",
   "execution_count": 2,
   "id": "1a2a391f",
   "metadata": {},
   "outputs": [
    {
     "data": {
      "text/plain": [
       "0    a\n",
       "1    b\n",
       "2    c\n",
       "3    d\n",
       "dtype: object"
      ]
     },
     "execution_count": 2,
     "metadata": {},
     "output_type": "execute_result"
    }
   ],
   "source": [
    "Labels = ['a','b','c','d']\n",
    "pd.Series(Labels)"
   ]
  },
  {
   "cell_type": "code",
   "execution_count": 3,
   "id": "90c94df4",
   "metadata": {},
   "outputs": [
    {
     "data": {
      "text/plain": [
       "0    1\n",
       "1    2\n",
       "2    3\n",
       "3    4\n",
       "dtype: int64"
      ]
     },
     "execution_count": 3,
     "metadata": {},
     "output_type": "execute_result"
    }
   ],
   "source": [
    "#Creating the Series by List\n",
    "\n",
    "my_list = [1,2,3,4]\n",
    "pd.Series(my_list)"
   ]
  },
  {
   "cell_type": "code",
   "execution_count": 4,
   "id": "7a1d0500",
   "metadata": {},
   "outputs": [
    {
     "data": {
      "text/plain": [
       "0    5\n",
       "1    6\n",
       "2    7\n",
       "3    8\n",
       "dtype: int32"
      ]
     },
     "execution_count": 4,
     "metadata": {},
     "output_type": "execute_result"
    }
   ],
   "source": [
    "#Creating the Series by array\n",
    "\n",
    "my_array = np.array([5,6,7,8])\n",
    "pd.Series(my_array)"
   ]
  },
  {
   "cell_type": "code",
   "execution_count": 5,
   "id": "111c4032",
   "metadata": {},
   "outputs": [
    {
     "data": {
      "text/plain": [
       "a    1\n",
       "b    2\n",
       "c    3\n",
       "d    4\n",
       "e    5\n",
       "dtype: int64"
      ]
     },
     "execution_count": 5,
     "metadata": {},
     "output_type": "execute_result"
    }
   ],
   "source": [
    "my_dictionary = {'a':1,'b':2,'c':3,'d':4,'e':5}\n",
    "pd.Series(my_dictionary)"
   ]
  },
  {
   "cell_type": "code",
   "execution_count": 6,
   "id": "444fb83f",
   "metadata": {},
   "outputs": [
    {
     "data": {
      "text/plain": [
       "s    1\n",
       "d    2\n",
       "c    3\n",
       "z    4\n",
       "dtype: int64"
      ]
     },
     "execution_count": 6,
     "metadata": {},
     "output_type": "execute_result"
    }
   ],
   "source": [
    "#for custom indexes \n",
    "\n",
    "pd.Series(my_list, index=[\"s\",\"d\",\"c\",\"z\"])"
   ]
  },
  {
   "cell_type": "code",
   "execution_count": 7,
   "id": "8a954423",
   "metadata": {},
   "outputs": [
    {
     "data": {
      "text/plain": [
       "6    1\n",
       "5    2\n",
       "3    3\n",
       "2    4\n",
       "dtype: int64"
      ]
     },
     "execution_count": 7,
     "metadata": {},
     "output_type": "execute_result"
    }
   ],
   "source": [
    "#Each value has an associated index, and we can customize that index too:\n",
    "\n",
    "pd.Series(my_list, index=[6,5,3,2])"
   ]
  },
  {
   "cell_type": "markdown",
   "id": "514e1fbf",
   "metadata": {},
   "source": [
    "# Series Completed"
   ]
  },
  {
   "cell_type": "code",
   "execution_count": null,
   "id": "4ea64c9e",
   "metadata": {},
   "outputs": [],
   "source": []
  }
 ],
 "metadata": {
  "kernelspec": {
   "display_name": "Python 3 (ipykernel)",
   "language": "python",
   "name": "python3"
  },
  "language_info": {
   "codemirror_mode": {
    "name": "ipython",
    "version": 3
   },
   "file_extension": ".py",
   "mimetype": "text/x-python",
   "name": "python",
   "nbconvert_exporter": "python",
   "pygments_lexer": "ipython3",
   "version": "3.11.0"
  }
 },
 "nbformat": 4,
 "nbformat_minor": 5
}
